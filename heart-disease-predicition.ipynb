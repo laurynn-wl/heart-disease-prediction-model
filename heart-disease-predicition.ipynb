{
 "cells": [
  {
   "cell_type": "markdown",
   "id": "475af752",
   "metadata": {},
   "source": [
    "<div class=\"alert alert-danger\" style=\"text-align:left;\"><h1>ASSESSED <span style=\"float:right;\">[100 marks] (25% of COMP1008)</span></h1></div>\n",
    "\n",
    "\n",
    "# COMP1008 Coursework 2022/23 - Heart Disease Prediction"
   ]
  },
  {
   "cell_type": "markdown",
   "id": "84fc716b",
   "metadata": {},
   "source": [
    "**Student Name: [Lauryn Williams-Lewis]** \n",
    "\n",
    "**Student ID: [20481054]**\n",
    "\n",
    "<div style=\"color:red; text-align:center;\" ></br>\n",
    "***Make sure you refer to the Moodle page for submission details, any amendments, and general Q&As related to this coursework!***             \n",
    " </div>"
   ]
  },
  {
   "cell_type": "markdown",
   "id": "54edd54d",
   "metadata": {},
   "source": [
    "## Task Description\n",
    "Using patient data that is given in the dataset <a href=\"./data_heart_disease.csv\">data_heart_disease.csv</a>, you should build machine learning models to predict whether a patient has heart disease, or not, based on the appropriate input features from the dataset.\n",
    "The questions have been broken down into three topics to guide you through the coursework. \n",
    "\n",
    "1. The first question relates to exploratory analysis and pre-processing of the data.\n",
    "2. The second question involves building a decision tree model for predicting whether or not someone has heart disease.\n",
    "3. The third question is about neural networks where you should build an ANN for the same classification exercise.\n",
    "\n",
    "You should rename this notebook as `COMP1008-cw-202223-[username].ipynb`; for example if your username was `psyabc` then the notebook should be named `COMP1008-cw-202223-psyabc.ipynb`.\n",
    "\n",
    "### Grading Remarks:\n",
    "\n",
    "**Use of packages**\n",
    "\n",
    "The answers to your coursework should be included in this single notebook and should only depend on the given dataset and packages introduced in the computing sessions (`numpy`, `matplotlib`, `pandas`, `scikit-learn`). \n",
    "You may use other packages if you think they are necessary, but any packages that automate any process beyond what was used in the computing exercises are prohibited and marks for those questions that use such libraries will receive a mark of 0.\n",
    "\n",
    "**Answering coding and analysis/comprehension-style questions**\n",
    "\n",
    "Answers should be given as code in code and/or markdown cells as indicated by each question.\n",
    "Your answers should clearly follow on from previous code cells and your analysis of any results produced.\n",
    "Do not delete any code that you rely on to form your answers!\n",
    "\n",
    "**Dataset Modification(s)**\n",
    "\n",
    "All modifications to the data in the dataset should be done in code in this notebook. \n",
    "We will be running and marking your code based on the original dataset provided to you.\n",
    "\n",
    "**\"Compilation\" of Notebook**\n",
    "\n",
    "Your notebook should run from top to bottom without errors if we try to run it. **WARNING** selecting `Kernel` from the navigation bar and choosing `Restart & Run All` may result in different solutions where randomisation is used so we recommend that you do not do this, but if you do make sure that your answers are still valid."
   ]
  },
  {
   "cell_type": "markdown",
   "id": "a376fdc2",
   "metadata": {},
   "source": [
    "<div class=\"alert alert-success\" style=\"text-align:left;\"><h2>Question 1. Exploratory Analysis and Pre-processing<span style=\"float:right;\">[40 marks]</span></h2></div>\n",
    "\n",
    "This question concerns analysing and pre-processing the coursework dataset."
   ]
  },
  {
   "cell_type": "markdown",
   "id": "37334f90",
   "metadata": {},
   "source": [
    "<h3 style=\"text-alight:left;\"> Question 1a. <span style=\"float:right;\">[3 marks]</span> </h3>"
   ]
  },
  {
   "cell_type": "markdown",
   "id": "c55be55d",
   "metadata": {},
   "source": [
    "Write the code in the code cell beneath ***Q1a. Code*** to import all the relevent packages that are needed for running your code in all parts of question 1, and load the dataset from `data_heart_disease.csv` into a pandas DataFrame named `data`. If you find you need to include another package later on, come back here to import it!"
   ]
  },
  {
   "cell_type": "markdown",
   "id": "06c193c5",
   "metadata": {},
   "source": [
    "#### Q1a. Code"
   ]
  },
  {
   "cell_type": "code",
   "execution_count": 1,
   "id": "96b07762",
   "metadata": {},
   "outputs": [],
   "source": [
    "import pandas as pd\n",
    "import numpy as np\n",
    "import matplotlib.pyplot as plt\n",
    "\n",
    "from sklearn.preprocessing import MinMaxScaler \n",
    "from sklearn.model_selection import train_test_split\n",
    "from sklearn.tree import DecisionTreeClassifier\n",
    "from sklearn.tree import plot_tree\n",
    "from sklearn import metrics\n",
    "from sklearn.model_selection import cross_val_score\n",
    "from sklearn.neural_network import MLPClassifier\n",
    "from sklearn.metrics import confusion_matrix\n",
    "\n",
    "\n",
    "\n",
    "data = pd.read_csv(\"data_heart_disease.csv\")"
   ]
  },
  {
   "cell_type": "markdown",
   "id": "c4652268",
   "metadata": {},
   "source": [
    "You should now be able to view the dataset by running the code cell below."
   ]
  },
  {
   "cell_type": "code",
   "execution_count": 2,
   "id": "6a35c390",
   "metadata": {},
   "outputs": [
    {
     "data": {
      "text/html": [
       "<div>\n",
       "<style scoped>\n",
       "    .dataframe tbody tr th:only-of-type {\n",
       "        vertical-align: middle;\n",
       "    }\n",
       "\n",
       "    .dataframe tbody tr th {\n",
       "        vertical-align: top;\n",
       "    }\n",
       "\n",
       "    .dataframe thead th {\n",
       "        text-align: right;\n",
       "    }\n",
       "</style>\n",
       "<table border=\"1\" class=\"dataframe\">\n",
       "  <thead>\n",
       "    <tr style=\"text-align: right;\">\n",
       "      <th></th>\n",
       "      <th>Age</th>\n",
       "      <th>Sex</th>\n",
       "      <th>ChestPainType</th>\n",
       "      <th>RestingBP</th>\n",
       "      <th>Cholesterol</th>\n",
       "      <th>FastingBS</th>\n",
       "      <th>RestingECG</th>\n",
       "      <th>MaxHR</th>\n",
       "      <th>ExerciseAngina</th>\n",
       "      <th>Oldpeak</th>\n",
       "      <th>ST_Slope</th>\n",
       "      <th>HRMaxGap</th>\n",
       "      <th>HeartDisease</th>\n",
       "    </tr>\n",
       "  </thead>\n",
       "  <tbody>\n",
       "    <tr>\n",
       "      <th>0</th>\n",
       "      <td>40</td>\n",
       "      <td>M</td>\n",
       "      <td>ATA</td>\n",
       "      <td>140.0</td>\n",
       "      <td>289.0</td>\n",
       "      <td>0</td>\n",
       "      <td>Normal</td>\n",
       "      <td>172</td>\n",
       "      <td>N</td>\n",
       "      <td>0.0</td>\n",
       "      <td>Up</td>\n",
       "      <td>8</td>\n",
       "      <td>0</td>\n",
       "    </tr>\n",
       "    <tr>\n",
       "      <th>1</th>\n",
       "      <td>49</td>\n",
       "      <td>F</td>\n",
       "      <td>NAP</td>\n",
       "      <td>160.0</td>\n",
       "      <td>180.0</td>\n",
       "      <td>0</td>\n",
       "      <td>Normal</td>\n",
       "      <td>156</td>\n",
       "      <td>N</td>\n",
       "      <td>1.0</td>\n",
       "      <td>Flat</td>\n",
       "      <td>15</td>\n",
       "      <td>1</td>\n",
       "    </tr>\n",
       "    <tr>\n",
       "      <th>2</th>\n",
       "      <td>37</td>\n",
       "      <td>M</td>\n",
       "      <td>ATA</td>\n",
       "      <td>130.0</td>\n",
       "      <td>283.0</td>\n",
       "      <td>0</td>\n",
       "      <td>ST</td>\n",
       "      <td>98</td>\n",
       "      <td>N</td>\n",
       "      <td>0.0</td>\n",
       "      <td>Up</td>\n",
       "      <td>85</td>\n",
       "      <td>0</td>\n",
       "    </tr>\n",
       "    <tr>\n",
       "      <th>3</th>\n",
       "      <td>48</td>\n",
       "      <td>F</td>\n",
       "      <td>ASY</td>\n",
       "      <td>138.0</td>\n",
       "      <td>214.0</td>\n",
       "      <td>0</td>\n",
       "      <td>Normal</td>\n",
       "      <td>108</td>\n",
       "      <td>Y</td>\n",
       "      <td>1.5</td>\n",
       "      <td>Flat</td>\n",
       "      <td>64</td>\n",
       "      <td>1</td>\n",
       "    </tr>\n",
       "    <tr>\n",
       "      <th>4</th>\n",
       "      <td>54</td>\n",
       "      <td>M</td>\n",
       "      <td>NAP</td>\n",
       "      <td>150.0</td>\n",
       "      <td>195.0</td>\n",
       "      <td>0</td>\n",
       "      <td>Normal</td>\n",
       "      <td>122</td>\n",
       "      <td>N</td>\n",
       "      <td>0.0</td>\n",
       "      <td>Up</td>\n",
       "      <td>44</td>\n",
       "      <td>0</td>\n",
       "    </tr>\n",
       "    <tr>\n",
       "      <th>...</th>\n",
       "      <td>...</td>\n",
       "      <td>...</td>\n",
       "      <td>...</td>\n",
       "      <td>...</td>\n",
       "      <td>...</td>\n",
       "      <td>...</td>\n",
       "      <td>...</td>\n",
       "      <td>...</td>\n",
       "      <td>...</td>\n",
       "      <td>...</td>\n",
       "      <td>...</td>\n",
       "      <td>...</td>\n",
       "      <td>...</td>\n",
       "    </tr>\n",
       "    <tr>\n",
       "      <th>913</th>\n",
       "      <td>45</td>\n",
       "      <td>M</td>\n",
       "      <td>TA</td>\n",
       "      <td>110.0</td>\n",
       "      <td>264.0</td>\n",
       "      <td>0</td>\n",
       "      <td>Normal</td>\n",
       "      <td>132</td>\n",
       "      <td>N</td>\n",
       "      <td>1.2</td>\n",
       "      <td>Flat</td>\n",
       "      <td>43</td>\n",
       "      <td>1</td>\n",
       "    </tr>\n",
       "    <tr>\n",
       "      <th>914</th>\n",
       "      <td>68</td>\n",
       "      <td>M</td>\n",
       "      <td>ASY</td>\n",
       "      <td>144.0</td>\n",
       "      <td>193.0</td>\n",
       "      <td>1</td>\n",
       "      <td>Normal</td>\n",
       "      <td>141</td>\n",
       "      <td>N</td>\n",
       "      <td>3.4</td>\n",
       "      <td>Flat</td>\n",
       "      <td>11</td>\n",
       "      <td>1</td>\n",
       "    </tr>\n",
       "    <tr>\n",
       "      <th>915</th>\n",
       "      <td>57</td>\n",
       "      <td>M</td>\n",
       "      <td>ASY</td>\n",
       "      <td>130.0</td>\n",
       "      <td>131.0</td>\n",
       "      <td>0</td>\n",
       "      <td>Normal</td>\n",
       "      <td>115</td>\n",
       "      <td>Y</td>\n",
       "      <td>1.2</td>\n",
       "      <td>Flat</td>\n",
       "      <td>48</td>\n",
       "      <td>1</td>\n",
       "    </tr>\n",
       "    <tr>\n",
       "      <th>916</th>\n",
       "      <td>57</td>\n",
       "      <td>F</td>\n",
       "      <td>ATA</td>\n",
       "      <td>130.0</td>\n",
       "      <td>236.0</td>\n",
       "      <td>0</td>\n",
       "      <td>LVH</td>\n",
       "      <td>174</td>\n",
       "      <td>N</td>\n",
       "      <td>0.0</td>\n",
       "      <td>Flat</td>\n",
       "      <td>-11</td>\n",
       "      <td>1</td>\n",
       "    </tr>\n",
       "    <tr>\n",
       "      <th>917</th>\n",
       "      <td>38</td>\n",
       "      <td>M</td>\n",
       "      <td>NAP</td>\n",
       "      <td>138.0</td>\n",
       "      <td>175.0</td>\n",
       "      <td>0</td>\n",
       "      <td>Normal</td>\n",
       "      <td>173</td>\n",
       "      <td>N</td>\n",
       "      <td>0.0</td>\n",
       "      <td>Up</td>\n",
       "      <td>9</td>\n",
       "      <td>0</td>\n",
       "    </tr>\n",
       "  </tbody>\n",
       "</table>\n",
       "<p>918 rows × 13 columns</p>\n",
       "</div>"
      ],
      "text/plain": [
       "     Age Sex ChestPainType  RestingBP  Cholesterol  FastingBS RestingECG  \\\n",
       "0     40   M           ATA      140.0        289.0          0     Normal   \n",
       "1     49   F           NAP      160.0        180.0          0     Normal   \n",
       "2     37   M           ATA      130.0        283.0          0         ST   \n",
       "3     48   F           ASY      138.0        214.0          0     Normal   \n",
       "4     54   M           NAP      150.0        195.0          0     Normal   \n",
       "..   ...  ..           ...        ...          ...        ...        ...   \n",
       "913   45   M            TA      110.0        264.0          0     Normal   \n",
       "914   68   M           ASY      144.0        193.0          1     Normal   \n",
       "915   57   M           ASY      130.0        131.0          0     Normal   \n",
       "916   57   F           ATA      130.0        236.0          0        LVH   \n",
       "917   38   M           NAP      138.0        175.0          0     Normal   \n",
       "\n",
       "     MaxHR ExerciseAngina  Oldpeak ST_Slope  HRMaxGap  HeartDisease  \n",
       "0      172              N      0.0       Up         8             0  \n",
       "1      156              N      1.0     Flat        15             1  \n",
       "2       98              N      0.0       Up        85             0  \n",
       "3      108              Y      1.5     Flat        64             1  \n",
       "4      122              N      0.0       Up        44             0  \n",
       "..     ...            ...      ...      ...       ...           ...  \n",
       "913    132              N      1.2     Flat        43             1  \n",
       "914    141              N      3.4     Flat        11             1  \n",
       "915    115              Y      1.2     Flat        48             1  \n",
       "916    174              N      0.0     Flat       -11             1  \n",
       "917    173              N      0.0       Up         9             0  \n",
       "\n",
       "[918 rows x 13 columns]"
      ]
     },
     "execution_count": 2,
     "metadata": {},
     "output_type": "execute_result"
    }
   ],
   "source": [
    "data"
   ]
  },
  {
   "cell_type": "markdown",
   "id": "6ee43720",
   "metadata": {},
   "source": [
    "<h3 style=\"text-alight:left;\"> Question 1b. <span style=\"float:right;\">[5 marks]</span> </h3>\n",
    "\n",
    "Write the code in the code cell beneath ***Q1b. Code*** to produce a suitable plot to show which age group in the dataset has the largest sample size.\n",
    "Here, an age group should be defined every 10 years; for example ages 30-40, 40-50, etc.\n",
    "\n",
    "Your plot should be clearly labelled and you should write down which age group has the largest sample size (e.g. age group 90-100) in the markdown cell headed ***Q1b. Answer*** below your plot code."
   ]
  },
  {
   "cell_type": "markdown",
   "id": "c314e448",
   "metadata": {},
   "source": [
    "#### Q1b. Code"
   ]
  },
  {
   "cell_type": "code",
   "execution_count": 3,
   "id": "838f26d2",
   "metadata": {},
   "outputs": [
    {
     "data": {
      "image/png": "[encoded data removed]",
      "text/plain": [
       "<Figure size 432x288 with 1 Axes>"
      ]
     },
     "metadata": {},
     "output_type": "display_data"
    }
   ],
   "source": [
    "#pandas.cut(x, bins, right=True, labels=None, retbins=False, precision=3, include_lowest=False, duplicates='raise', ordered=True)[source]\n",
    "\n",
    "#bins - specifies the age group intervals\n",
    "# intervals are one less than number specified \n",
    "bins = [20,30,40,50,60,70,80]\n",
    "\n",
    "#age group are the labels \n",
    "labels = ['20-29','30-39', '40-49', '50-59', '60-69', '70-79' ]\n",
    "\n",
    "data['AgeGroup'] = pd.cut(data['Age'], bins=bins, right = False , labels=labels, ordered= False)\n",
    "\n",
    "age = np.array(data.groupby(['AgeGroup'])['Age'].count())\n",
    "\n",
    "#plt.bar('AgeGroup', 'No.' , data = data['AgeGroup'])\n",
    "#plt.show()\n",
    "\n",
    "               \n",
    "\n",
    "plt.pie(age, labels=labels)\n",
    "plt.show()\n",
    "\n",
    "data= data.drop(columns =['AgeGroup'])"
   ]
  },
  {
   "cell_type": "markdown",
   "id": "a24e5899",
   "metadata": {},
   "source": [
    "#### Q1b. Answer"
   ]
  },
  {
   "cell_type": "markdown",
   "id": "bec26d62",
   "metadata": {},
   "source": [
    "50-59 is the age group with the largest sample size"
   ]
  },
  {
   "cell_type": "markdown",
   "id": "90c381ef",
   "metadata": {},
   "source": [
    "<h3 style=\"text-alight:left;\"> Question 1c. <span style=\"float:right;\">[5 marks]</span> </h3>\n",
    "\n",
    "Using your answer from Q1b, write the code in the code cell beneath ***Q1c. Code*** to report the number of patients in the most populous age group. Write the answer that you obtain in the markdown cell beneath ***Q1c. Answer***."
   ]
  },
  {
   "cell_type": "markdown",
   "id": "5742d941",
   "metadata": {},
   "source": [
    "#### Q1c. Code"
   ]
  },
  {
   "cell_type": "code",
   "execution_count": 4,
   "id": "b1b5474d",
   "metadata": {},
   "outputs": [
    {
     "data": {
      "text/plain": [
       "374"
      ]
     },
     "execution_count": 4,
     "metadata": {},
     "output_type": "execute_result"
    }
   ],
   "source": [
    "#max - finds the biggest age group - then finds the amount of people in the age group\n",
    "age.max()"
   ]
  },
  {
   "cell_type": "markdown",
   "id": "b36e55d6",
   "metadata": {},
   "source": [
    "#### Q1c. Answer"
   ]
  },
  {
   "cell_type": "markdown",
   "id": "cd7e49a4",
   "metadata": {},
   "source": [
    "The age group 50-59 has 374 patients in it "
   ]
  },
  {
   "cell_type": "markdown",
   "id": "9437d7fa",
   "metadata": {},
   "source": [
    "<h3 style=\"text-alight:left;\"> Question 1d. <span style=\"float:right;\">[5 marks]</span> </h3>\n",
    "\n",
    "How does the prevalence of heart disease compare in the data between the two sexes?\n",
    "\n",
    "Write the code in the code cell beneath ***Q1d. Code*** to find this data and enter your findings in the markdown cell beneath ***Q1d. Answer***. Your answer should contain some relevent statistic to show how they compare rather than just stating \"Sex *** has the highest prevalence of heart disease\". "
   ]
  },
  {
   "cell_type": "markdown",
   "id": "6c6cb7be",
   "metadata": {},
   "source": [
    "#### Q1d. Code"
   ]
  },
  {
   "cell_type": "code",
   "execution_count": 5,
   "id": "50631489",
   "metadata": {},
   "outputs": [
    {
     "name": "stdout",
     "output_type": "stream",
     "text": [
      "The percentage of males who have heart disease is 63.2 %\n",
      "The perecntage of females who gave heart disease is 25.9 %\n"
     ]
    }
   ],
   "source": [
    "# Split the data into male / females\n",
    "\n",
    "male_data = data[data[\"Sex\"] == \"M\"]\n",
    "female_data = data[data[\"Sex\"] == \"F\"]\n",
    "\n",
    "# Find number of males and females in the data \n",
    "\n",
    "male_total = len(male_data)\n",
    "female_total = len(female_data)\n",
    "\n",
    "# make an array of male and females who have heart disease \n",
    "\n",
    "\n",
    "male_disease = np.array(male_data.groupby(['HeartDisease'])['HeartDisease'].count())\n",
    "female_disease = np.array(female_data.groupby(['HeartDisease'])['HeartDisease'].count())\n",
    "\n",
    "# workout percentage \n",
    "m_disease = (((male_disease[1]/male_total) * 100))\n",
    "f_disease = ((female_disease[1]/female_total) * 100)\n",
    "\n",
    "\n",
    "print(\"The percentage of males who have heart disease is\",np.round(m_disease, decimals=1), \"%\")\n",
    "print(\"The perecntage of females who gave heart disease is\",np.round(f_disease,decimals =1), \"%\")\n"
   ]
  },
  {
   "cell_type": "markdown",
   "id": "d7b52d56",
   "metadata": {},
   "source": [
    "#### Q1d. Answer"
   ]
  },
  {
   "cell_type": "markdown",
   "id": "9512f73c",
   "metadata": {},
   "source": [
    "The percentage of males from the data who have heart disease is 63.2% (1dp) whereas the percentage of women who have heart disease is 25.9% (2sf). The difference in percentage between males and females is 37.3%(1dp). Therefore the data shows men have a higher prevelance of heart disease."
   ]
  },
  {
   "cell_type": "markdown",
   "id": "ef82c4af",
   "metadata": {},
   "source": [
    "<h3 style=\"text-alight:left;\"> Question 1e. <span style=\"float:right;\">[5 marks]</span> </h3>\n",
    "\n",
    "Write the code beneath ***Q1e. Code*** to create a suitable plot which illustrates the ranges of each of the numerical features in the dataset. \n",
    "You should report which feature has the largest range in the markdown cell beneath ***Q1e. Answer***, stating its range. For example, feature A has the largest range with a range of 50."
   ]
  },
  {
   "cell_type": "markdown",
   "id": "d7293d45",
   "metadata": {},
   "source": [
    "#### Q1e. Code"
   ]
  },
  {
   "cell_type": "code",
   "execution_count": 6,
   "id": "74ec3f31",
   "metadata": {},
   "outputs": [
    {
     "data": {
      "image/png": "[encoded data removed]",
      "text/plain": [
       "<Figure size 720x504 with 1 Axes>"
      ]
     },
     "metadata": {
      "needs_background": "light"
     },
     "output_type": "display_data"
    }
   ],
   "source": [
    "#boxplots for every numerical feature in the \n",
    "\n",
    "# Create a list of numerical features\n",
    "list1 = ['Age','RestingBP', 'Cholesterol', 'FastingBS', 'MaxHR', 'Oldpeak', 'HRMaxGap']\n",
    "# Create a tempoary data set that drops the empty values\n",
    "data_dropped = data[list1].dropna()\n",
    "data_dropped\n",
    "# Convert data to numpy arrays\n",
    "age1 = np.array(data_dropped['Age'])\n",
    "restingbp = np.array(data_dropped['RestingBP'])\n",
    "cholesterol = np.array(data_dropped['Cholesterol'])\n",
    "fastingbs = np.array(data_dropped['FastingBS'])\n",
    "maxhr = np.array(data_dropped['MaxHR'])\n",
    "oldpeak = np.array(data_dropped['Oldpeak'])\n",
    "hrmaxGap = np.array(data_dropped['HRMaxGap'])\n",
    "# create a list of data arrays ^\n",
    "\n",
    "list2= [age1, restingbp, cholesterol, fastingbs, maxhr, oldpeak, hrmaxGap]\n",
    " \n",
    "\n",
    "fig = plt.figure(figsize=(10,7))\n",
    "\n",
    "# BOX PLOT :)\n",
    "\n",
    "plt.boxplot(list2, labels=['Age','RestingBP', 'Cholesterol', 'FastingBS', 'MaxHR', 'Oldpeak', 'HRMaxGap'])\n",
    "plt.show()"
   ]
  },
  {
   "cell_type": "markdown",
   "id": "e87f2366",
   "metadata": {},
   "source": [
    "#### Q1e. Answer"
   ]
  },
  {
   "cell_type": "markdown",
   "id": "e80871b4",
   "metadata": {},
   "source": [
    "Cholesterol with has the largest range with a range of 518"
   ]
  },
  {
   "cell_type": "markdown",
   "id": "c89486cc",
   "metadata": {},
   "source": [
    "<h3 style=\"text-alight:left;\"> Question 1f. <span style=\"float:right;\">[6 marks]</span> </h3> \n",
    "\n",
    "This question has two parts."
   ]
  },
  {
   "cell_type": "markdown",
   "id": "3ffc2f0b",
   "metadata": {},
   "source": [
    "**Part I:** Do any features have missing values? You should use appropriate functions on the dataframe to find this out, and write your code in the cell ***Q1f. Part I Code***. In the markdown cell ***Q1f. Part I Answer***, write down which features (if any) have missing values."
   ]
  },
  {
   "cell_type": "markdown",
   "id": "24b1efdf",
   "metadata": {},
   "source": [
    "#### Q1f. Part I Code"
   ]
  },
  {
   "cell_type": "code",
   "execution_count": 7,
   "id": "919bfb0f",
   "metadata": {},
   "outputs": [
    {
     "data": {
      "text/plain": [
       "Age                 0\n",
       "Sex                 0\n",
       "ChestPainType       0\n",
       "RestingBP           1\n",
       "Cholesterol       172\n",
       "FastingBS           0\n",
       "RestingECG          0\n",
       "MaxHR               0\n",
       "ExerciseAngina      0\n",
       "Oldpeak             0\n",
       "ST_Slope            0\n",
       "HRMaxGap            0\n",
       "HeartDisease        0\n",
       "dtype: int64"
      ]
     },
     "execution_count": 7,
     "metadata": {},
     "output_type": "execute_result"
    }
   ],
   "source": [
    "#isna() -> generates a boolean mask to indicate which cells are missing\n",
    "#sum -> counts how many missing values there are for each feature \n",
    "data.isna().sum()"
   ]
  },
  {
   "cell_type": "markdown",
   "id": "13362592",
   "metadata": {},
   "source": [
    "#### Q1f. Part I Answer"
   ]
  },
  {
   "cell_type": "markdown",
   "id": "31661ee1",
   "metadata": {},
   "source": [
    "Cholesterol has 172 null values \n",
    "RestingBP has 1 null value"
   ]
  },
  {
   "cell_type": "markdown",
   "id": "708b1a53",
   "metadata": {},
   "source": [
    "**Part 2:** Use an appropriate technique to handle any missing values in the data. Your code should be written in the cell ***Q1f. Part II Code***. Write a brief explanation of why you chose this method in the markdown cell ***Q1f. Part II Answer***."
   ]
  },
  {
   "cell_type": "markdown",
   "id": "4f07adc4",
   "metadata": {},
   "source": [
    "#### Q1f. Part II Code"
   ]
  },
  {
   "cell_type": "code",
   "execution_count": 8,
   "id": "732e0e09",
   "metadata": {},
   "outputs": [
    {
     "data": {
      "text/plain": [
       "Age               0\n",
       "Sex               0\n",
       "ChestPainType     0\n",
       "RestingBP         0\n",
       "Cholesterol       0\n",
       "FastingBS         0\n",
       "RestingECG        0\n",
       "MaxHR             0\n",
       "ExerciseAngina    0\n",
       "Oldpeak           0\n",
       "ST_Slope          0\n",
       "HRMaxGap          0\n",
       "HeartDisease      0\n",
       "dtype: int64"
      ]
     },
     "execution_count": 8,
     "metadata": {},
     "output_type": "execute_result"
    }
   ],
   "source": [
    "#dropping the null value from the restingBP column\n",
    "data = data.dropna(subset=[\"RestingBP\"])\n",
    "\n",
    "\n",
    "\n",
    "#Calculating the mean value for each gender using the groupby function\n",
    "median_cholesterol = data.groupby(\"Sex\")[\"Cholesterol\"].median()\n",
    "\n",
    "for index, row in data.iterrows():\n",
    "    #Checking if the row has a missing value for the Cholesterol column\n",
    "    if pd.isna(row[\"Cholesterol\"]):\n",
    "        #Using at to fill the missing values with the median value from the gender \n",
    "        data.at[index, \"Cholesterol\"] = median_cholesterol[row[\"Sex\"]]\n",
    "        \n",
    "  \n",
    "#Checking whethere the null values have been filled\n",
    "data.isna().sum()"
   ]
  },
  {
   "cell_type": "markdown",
   "id": "e457dbae",
   "metadata": {},
   "source": [
    "#### Q1f. Part II Answer"
   ]
  },
  {
   "cell_type": "markdown",
   "id": "2dd20f16",
   "metadata": {},
   "source": [
    "I chose to drop the 1 null value from RestingBp as it will not have a big impact on the data however for Cholesterol I decided to fill the null values with the median cholesterol. I filled the cholesterol with the male median if the patient was male and the female median if the patient was female. I did this as the male and female median for cholesterol is different so the training model will have better data to predict heart disease in amles and females. \n",
    "I used the median instead of the mean as the data  is slightly skewed, therfore using the median seemed better suited as it is less likely to be effected by outliers and extreme values.\n"
   ]
  },
  {
   "cell_type": "markdown",
   "id": "f849c9b2",
   "metadata": {},
   "source": [
    "<h3 style=\"text-alight:left;\"> Question 1g. <span style=\"float:right;\">[6 marks]</span> </h3>\n",
    "\n",
    "This question has two parts."
   ]
  },
  {
   "cell_type": "markdown",
   "id": "1588df16",
   "metadata": {},
   "source": [
    "**Part I:** Which features in the heart disease data are categorical? You should use appropriate functions on the dataframe to find this out, and write your code in the cell ***Q1g. Part I Code***. In the markdown cell ***Q1g. Part I Answer***, write down which features are categorical."
   ]
  },
  {
   "cell_type": "markdown",
   "id": "aa59e20c",
   "metadata": {},
   "source": [
    "#### Q1g. Part I Code"
   ]
  },
  {
   "cell_type": "code",
   "execution_count": 9,
   "id": "1f453eb4",
   "metadata": {},
   "outputs": [
    {
     "data": {
      "text/plain": [
       "Age                 int64\n",
       "Sex                object\n",
       "ChestPainType      object\n",
       "RestingBP         float64\n",
       "Cholesterol       float64\n",
       "FastingBS           int64\n",
       "RestingECG         object\n",
       "MaxHR               int64\n",
       "ExerciseAngina     object\n",
       "Oldpeak           float64\n",
       "ST_Slope           object\n",
       "HRMaxGap            int64\n",
       "HeartDisease        int64\n",
       "dtype: object"
      ]
     },
     "execution_count": 9,
     "metadata": {},
     "output_type": "execute_result"
    }
   ],
   "source": [
    "data.dtypes"
   ]
  },
  {
   "cell_type": "markdown",
   "id": "e1bc0c4d",
   "metadata": {},
   "source": [
    "#### Q1g. Part I Answer"
   ]
  },
  {
   "cell_type": "markdown",
   "id": "dbe707ee",
   "metadata": {},
   "source": [
    "Categorical Features: Sex, ChestPainType, RestingECG, ExerciseAngina, ST_Slope"
   ]
  },
  {
   "cell_type": "markdown",
   "id": "65fc60e2",
   "metadata": {},
   "source": [
    "**Part II:** Use an appropriate technique to transform the categorical features so that they are suitable for training a machine learning model. Your code should be written in the cell ***Q1g. Part II Code***. In the markdown cell ***Q1g. Part II Answer***, give the name of the preprocessing technique you used and briefly explain how this transforms the data."
   ]
  },
  {
   "cell_type": "markdown",
   "id": "c158bbca",
   "metadata": {},
   "source": [
    "#### Q1g. Part II Code"
   ]
  },
  {
   "cell_type": "code",
   "execution_count": 10,
   "id": "8c527f60",
   "metadata": {},
   "outputs": [
    {
     "data": {
      "text/html": [
       "<div>\n",
       "<style scoped>\n",
       "    .dataframe tbody tr th:only-of-type {\n",
       "        vertical-align: middle;\n",
       "    }\n",
       "\n",
       "    .dataframe tbody tr th {\n",
       "        vertical-align: top;\n",
       "    }\n",
       "\n",
       "    .dataframe thead th {\n",
       "        text-align: right;\n",
       "    }\n",
       "</style>\n",
       "<table border=\"1\" class=\"dataframe\">\n",
       "  <thead>\n",
       "    <tr style=\"text-align: right;\">\n",
       "      <th></th>\n",
       "      <th>Age</th>\n",
       "      <th>RestingBP</th>\n",
       "      <th>Cholesterol</th>\n",
       "      <th>FastingBS</th>\n",
       "      <th>MaxHR</th>\n",
       "      <th>Oldpeak</th>\n",
       "      <th>HRMaxGap</th>\n",
       "      <th>HeartDisease</th>\n",
       "      <th>Sex_F</th>\n",
       "      <th>Sex_M</th>\n",
       "      <th>...</th>\n",
       "      <th>ChestPainType_NAP</th>\n",
       "      <th>ChestPainType_TA</th>\n",
       "      <th>RestingECG_LVH</th>\n",
       "      <th>RestingECG_Normal</th>\n",
       "      <th>RestingECG_ST</th>\n",
       "      <th>ExerciseAngina_N</th>\n",
       "      <th>ExerciseAngina_Y</th>\n",
       "      <th>ST_Slope_Down</th>\n",
       "      <th>ST_Slope_Flat</th>\n",
       "      <th>ST_Slope_Up</th>\n",
       "    </tr>\n",
       "  </thead>\n",
       "  <tbody>\n",
       "    <tr>\n",
       "      <th>0</th>\n",
       "      <td>40</td>\n",
       "      <td>140.0</td>\n",
       "      <td>289.0</td>\n",
       "      <td>0</td>\n",
       "      <td>172</td>\n",
       "      <td>0.0</td>\n",
       "      <td>8</td>\n",
       "      <td>0</td>\n",
       "      <td>0</td>\n",
       "      <td>1</td>\n",
       "      <td>...</td>\n",
       "      <td>0</td>\n",
       "      <td>0</td>\n",
       "      <td>0</td>\n",
       "      <td>1</td>\n",
       "      <td>0</td>\n",
       "      <td>1</td>\n",
       "      <td>0</td>\n",
       "      <td>0</td>\n",
       "      <td>0</td>\n",
       "      <td>1</td>\n",
       "    </tr>\n",
       "    <tr>\n",
       "      <th>1</th>\n",
       "      <td>49</td>\n",
       "      <td>160.0</td>\n",
       "      <td>180.0</td>\n",
       "      <td>0</td>\n",
       "      <td>156</td>\n",
       "      <td>1.0</td>\n",
       "      <td>15</td>\n",
       "      <td>1</td>\n",
       "      <td>1</td>\n",
       "      <td>0</td>\n",
       "      <td>...</td>\n",
       "      <td>1</td>\n",
       "      <td>0</td>\n",
       "      <td>0</td>\n",
       "      <td>1</td>\n",
       "      <td>0</td>\n",
       "      <td>1</td>\n",
       "      <td>0</td>\n",
       "      <td>0</td>\n",
       "      <td>1</td>\n",
       "      <td>0</td>\n",
       "    </tr>\n",
       "    <tr>\n",
       "      <th>2</th>\n",
       "      <td>37</td>\n",
       "      <td>130.0</td>\n",
       "      <td>283.0</td>\n",
       "      <td>0</td>\n",
       "      <td>98</td>\n",
       "      <td>0.0</td>\n",
       "      <td>85</td>\n",
       "      <td>0</td>\n",
       "      <td>0</td>\n",
       "      <td>1</td>\n",
       "      <td>...</td>\n",
       "      <td>0</td>\n",
       "      <td>0</td>\n",
       "      <td>0</td>\n",
       "      <td>0</td>\n",
       "      <td>1</td>\n",
       "      <td>1</td>\n",
       "      <td>0</td>\n",
       "      <td>0</td>\n",
       "      <td>0</td>\n",
       "      <td>1</td>\n",
       "    </tr>\n",
       "    <tr>\n",
       "      <th>3</th>\n",
       "      <td>48</td>\n",
       "      <td>138.0</td>\n",
       "      <td>214.0</td>\n",
       "      <td>0</td>\n",
       "      <td>108</td>\n",
       "      <td>1.5</td>\n",
       "      <td>64</td>\n",
       "      <td>1</td>\n",
       "      <td>1</td>\n",
       "      <td>0</td>\n",
       "      <td>...</td>\n",
       "      <td>0</td>\n",
       "      <td>0</td>\n",
       "      <td>0</td>\n",
       "      <td>1</td>\n",
       "      <td>0</td>\n",
       "      <td>0</td>\n",
       "      <td>1</td>\n",
       "      <td>0</td>\n",
       "      <td>1</td>\n",
       "      <td>0</td>\n",
       "    </tr>\n",
       "    <tr>\n",
       "      <th>4</th>\n",
       "      <td>54</td>\n",
       "      <td>150.0</td>\n",
       "      <td>195.0</td>\n",
       "      <td>0</td>\n",
       "      <td>122</td>\n",
       "      <td>0.0</td>\n",
       "      <td>44</td>\n",
       "      <td>0</td>\n",
       "      <td>0</td>\n",
       "      <td>1</td>\n",
       "      <td>...</td>\n",
       "      <td>1</td>\n",
       "      <td>0</td>\n",
       "      <td>0</td>\n",
       "      <td>1</td>\n",
       "      <td>0</td>\n",
       "      <td>1</td>\n",
       "      <td>0</td>\n",
       "      <td>0</td>\n",
       "      <td>0</td>\n",
       "      <td>1</td>\n",
       "    </tr>\n",
       "    <tr>\n",
       "      <th>...</th>\n",
       "      <td>...</td>\n",
       "      <td>...</td>\n",
       "      <td>...</td>\n",
       "      <td>...</td>\n",
       "      <td>...</td>\n",
       "      <td>...</td>\n",
       "      <td>...</td>\n",
       "      <td>...</td>\n",
       "      <td>...</td>\n",
       "      <td>...</td>\n",
       "      <td>...</td>\n",
       "      <td>...</td>\n",
       "      <td>...</td>\n",
       "      <td>...</td>\n",
       "      <td>...</td>\n",
       "      <td>...</td>\n",
       "      <td>...</td>\n",
       "      <td>...</td>\n",
       "      <td>...</td>\n",
       "      <td>...</td>\n",
       "      <td>...</td>\n",
       "    </tr>\n",
       "    <tr>\n",
       "      <th>913</th>\n",
       "      <td>45</td>\n",
       "      <td>110.0</td>\n",
       "      <td>264.0</td>\n",
       "      <td>0</td>\n",
       "      <td>132</td>\n",
       "      <td>1.2</td>\n",
       "      <td>43</td>\n",
       "      <td>1</td>\n",
       "      <td>0</td>\n",
       "      <td>1</td>\n",
       "      <td>...</td>\n",
       "      <td>0</td>\n",
       "      <td>1</td>\n",
       "      <td>0</td>\n",
       "      <td>1</td>\n",
       "      <td>0</td>\n",
       "      <td>1</td>\n",
       "      <td>0</td>\n",
       "      <td>0</td>\n",
       "      <td>1</td>\n",
       "      <td>0</td>\n",
       "    </tr>\n",
       "    <tr>\n",
       "      <th>914</th>\n",
       "      <td>68</td>\n",
       "      <td>144.0</td>\n",
       "      <td>193.0</td>\n",
       "      <td>1</td>\n",
       "      <td>141</td>\n",
       "      <td>3.4</td>\n",
       "      <td>11</td>\n",
       "      <td>1</td>\n",
       "      <td>0</td>\n",
       "      <td>1</td>\n",
       "      <td>...</td>\n",
       "      <td>0</td>\n",
       "      <td>0</td>\n",
       "      <td>0</td>\n",
       "      <td>1</td>\n",
       "      <td>0</td>\n",
       "      <td>1</td>\n",
       "      <td>0</td>\n",
       "      <td>0</td>\n",
       "      <td>1</td>\n",
       "      <td>0</td>\n",
       "    </tr>\n",
       "    <tr>\n",
       "      <th>915</th>\n",
       "      <td>57</td>\n",
       "      <td>130.0</td>\n",
       "      <td>131.0</td>\n",
       "      <td>0</td>\n",
       "      <td>115</td>\n",
       "      <td>1.2</td>\n",
       "      <td>48</td>\n",
       "      <td>1</td>\n",
       "      <td>0</td>\n",
       "      <td>1</td>\n",
       "      <td>...</td>\n",
       "      <td>0</td>\n",
       "      <td>0</td>\n",
       "      <td>0</td>\n",
       "      <td>1</td>\n",
       "      <td>0</td>\n",
       "      <td>0</td>\n",
       "      <td>1</td>\n",
       "      <td>0</td>\n",
       "      <td>1</td>\n",
       "      <td>0</td>\n",
       "    </tr>\n",
       "    <tr>\n",
       "      <th>916</th>\n",
       "      <td>57</td>\n",
       "      <td>130.0</td>\n",
       "      <td>236.0</td>\n",
       "      <td>0</td>\n",
       "      <td>174</td>\n",
       "      <td>0.0</td>\n",
       "      <td>-11</td>\n",
       "      <td>1</td>\n",
       "      <td>1</td>\n",
       "      <td>0</td>\n",
       "      <td>...</td>\n",
       "      <td>0</td>\n",
       "      <td>0</td>\n",
       "      <td>1</td>\n",
       "      <td>0</td>\n",
       "      <td>0</td>\n",
       "      <td>1</td>\n",
       "      <td>0</td>\n",
       "      <td>0</td>\n",
       "      <td>1</td>\n",
       "      <td>0</td>\n",
       "    </tr>\n",
       "    <tr>\n",
       "      <th>917</th>\n",
       "      <td>38</td>\n",
       "      <td>138.0</td>\n",
       "      <td>175.0</td>\n",
       "      <td>0</td>\n",
       "      <td>173</td>\n",
       "      <td>0.0</td>\n",
       "      <td>9</td>\n",
       "      <td>0</td>\n",
       "      <td>0</td>\n",
       "      <td>1</td>\n",
       "      <td>...</td>\n",
       "      <td>1</td>\n",
       "      <td>0</td>\n",
       "      <td>0</td>\n",
       "      <td>1</td>\n",
       "      <td>0</td>\n",
       "      <td>1</td>\n",
       "      <td>0</td>\n",
       "      <td>0</td>\n",
       "      <td>0</td>\n",
       "      <td>1</td>\n",
       "    </tr>\n",
       "  </tbody>\n",
       "</table>\n",
       "<p>917 rows × 22 columns</p>\n",
       "</div>"
      ],
      "text/plain": [
       "     Age  RestingBP  Cholesterol  FastingBS  MaxHR  Oldpeak  HRMaxGap  \\\n",
       "0     40      140.0        289.0          0    172      0.0         8   \n",
       "1     49      160.0        180.0          0    156      1.0        15   \n",
       "2     37      130.0        283.0          0     98      0.0        85   \n",
       "3     48      138.0        214.0          0    108      1.5        64   \n",
       "4     54      150.0        195.0          0    122      0.0        44   \n",
       "..   ...        ...          ...        ...    ...      ...       ...   \n",
       "913   45      110.0        264.0          0    132      1.2        43   \n",
       "914   68      144.0        193.0          1    141      3.4        11   \n",
       "915   57      130.0        131.0          0    115      1.2        48   \n",
       "916   57      130.0        236.0          0    174      0.0       -11   \n",
       "917   38      138.0        175.0          0    173      0.0         9   \n",
       "\n",
       "     HeartDisease  Sex_F  Sex_M  ...  ChestPainType_NAP  ChestPainType_TA  \\\n",
       "0               0      0      1  ...                  0                 0   \n",
       "1               1      1      0  ...                  1                 0   \n",
       "2               0      0      1  ...                  0                 0   \n",
       "3               1      1      0  ...                  0                 0   \n",
       "4               0      0      1  ...                  1                 0   \n",
       "..            ...    ...    ...  ...                ...               ...   \n",
       "913             1      0      1  ...                  0                 1   \n",
       "914             1      0      1  ...                  0                 0   \n",
       "915             1      0      1  ...                  0                 0   \n",
       "916             1      1      0  ...                  0                 0   \n",
       "917             0      0      1  ...                  1                 0   \n",
       "\n",
       "     RestingECG_LVH  RestingECG_Normal  RestingECG_ST  ExerciseAngina_N  \\\n",
       "0                 0                  1              0                 1   \n",
       "1                 0                  1              0                 1   \n",
       "2                 0                  0              1                 1   \n",
       "3                 0                  1              0                 0   \n",
       "4                 0                  1              0                 1   \n",
       "..              ...                ...            ...               ...   \n",
       "913               0                  1              0                 1   \n",
       "914               0                  1              0                 1   \n",
       "915               0                  1              0                 0   \n",
       "916               1                  0              0                 1   \n",
       "917               0                  1              0                 1   \n",
       "\n",
       "     ExerciseAngina_Y  ST_Slope_Down  ST_Slope_Flat  ST_Slope_Up  \n",
       "0                   0              0              0            1  \n",
       "1                   0              0              1            0  \n",
       "2                   0              0              0            1  \n",
       "3                   1              0              1            0  \n",
       "4                   0              0              0            1  \n",
       "..                ...            ...            ...          ...  \n",
       "913                 0              0              1            0  \n",
       "914                 0              0              1            0  \n",
       "915                 1              0              1            0  \n",
       "916                 0              0              1            0  \n",
       "917                 0              0              0            1  \n",
       "\n",
       "[917 rows x 22 columns]"
      ]
     },
     "execution_count": 10,
     "metadata": {},
     "output_type": "execute_result"
    }
   ],
   "source": [
    "data=pd.get_dummies(data)\n",
    "data\n"
   ]
  },
  {
   "cell_type": "markdown",
   "id": "fc0f4046",
   "metadata": {},
   "source": [
    "#### Q1g. Part II Answer"
   ]
  },
  {
   "cell_type": "markdown",
   "id": "bb640c53",
   "metadata": {},
   "source": [
    "Categorical features need to be transformed into numerical features while retaining their meaning. To do this i used one-hot encoding it gives every categorical feature a binary column fro each possible value. e.g instead of Sex being \"M\" or \"F\" there are 2 new columns Sex_M which has a binary value 1 if the patient is male or a 0 if the patient is female. The column Sex is removed as it would just have redudant data."
   ]
  },
  {
   "cell_type": "markdown",
   "id": "e91a1628",
   "metadata": {},
   "source": [
    "<h3 style=\"text-alight:left;\"> Question 1h. <span style=\"float:right;\">[5 marks]</span> </h3>\n",
    "\n",
    "Are there any further preprocessing steps required to prepare the data for building the machine learning models in Questions 2 and 3? For any additional steps you identify, you should:\n",
    "* Write the code below the ***Q1h. Code*** heading. You can add as many code cells as you need.\n",
    "* In the ***Q1h. Answer*** markdown cell, write a brief **description** of what you have done and a brief justification of **why** you have done it."
   ]
  },
  {
   "cell_type": "markdown",
   "id": "40c2155c",
   "metadata": {},
   "source": [
    "#### Q1h. Code"
   ]
  },
  {
   "cell_type": "code",
   "execution_count": 11,
   "id": "2e8c6a80",
   "metadata": {},
   "outputs": [
    {
     "data": {
      "text/html": [
       "<div>\n",
       "<style scoped>\n",
       "    .dataframe tbody tr th:only-of-type {\n",
       "        vertical-align: middle;\n",
       "    }\n",
       "\n",
       "    .dataframe tbody tr th {\n",
       "        vertical-align: top;\n",
       "    }\n",
       "\n",
       "    .dataframe thead th {\n",
       "        text-align: right;\n",
       "    }\n",
       "</style>\n",
       "<table border=\"1\" class=\"dataframe\">\n",
       "  <thead>\n",
       "    <tr style=\"text-align: right;\">\n",
       "      <th></th>\n",
       "      <th>Age</th>\n",
       "      <th>RestingBP</th>\n",
       "      <th>Cholesterol</th>\n",
       "      <th>FastingBS</th>\n",
       "      <th>MaxHR</th>\n",
       "      <th>Oldpeak</th>\n",
       "      <th>HRMaxGap</th>\n",
       "      <th>HeartDisease</th>\n",
       "      <th>Sex_F</th>\n",
       "      <th>Sex_M</th>\n",
       "      <th>...</th>\n",
       "      <th>ChestPainType_NAP</th>\n",
       "      <th>ChestPainType_TA</th>\n",
       "      <th>RestingECG_LVH</th>\n",
       "      <th>RestingECG_Normal</th>\n",
       "      <th>RestingECG_ST</th>\n",
       "      <th>ExerciseAngina_N</th>\n",
       "      <th>ExerciseAngina_Y</th>\n",
       "      <th>ST_Slope_Down</th>\n",
       "      <th>ST_Slope_Flat</th>\n",
       "      <th>ST_Slope_Up</th>\n",
       "    </tr>\n",
       "  </thead>\n",
       "  <tbody>\n",
       "    <tr>\n",
       "      <th>count</th>\n",
       "      <td>917.000000</td>\n",
       "      <td>917.000000</td>\n",
       "      <td>917.000000</td>\n",
       "      <td>917.000000</td>\n",
       "      <td>917.000000</td>\n",
       "      <td>917.000000</td>\n",
       "      <td>917.000000</td>\n",
       "      <td>917.000000</td>\n",
       "      <td>917.000000</td>\n",
       "      <td>917.000000</td>\n",
       "      <td>...</td>\n",
       "      <td>917.000000</td>\n",
       "      <td>917.000000</td>\n",
       "      <td>917.000000</td>\n",
       "      <td>917.000000</td>\n",
       "      <td>917.000000</td>\n",
       "      <td>917.000000</td>\n",
       "      <td>917.000000</td>\n",
       "      <td>917.000000</td>\n",
       "      <td>917.000000</td>\n",
       "      <td>917.000000</td>\n",
       "    </tr>\n",
       "    <tr>\n",
       "      <th>mean</th>\n",
       "      <td>0.520597</td>\n",
       "      <td>0.437841</td>\n",
       "      <td>0.304672</td>\n",
       "      <td>0.233370</td>\n",
       "      <td>0.540771</td>\n",
       "      <td>0.396215</td>\n",
       "      <td>0.425371</td>\n",
       "      <td>0.552890</td>\n",
       "      <td>0.210469</td>\n",
       "      <td>0.789531</td>\n",
       "      <td>...</td>\n",
       "      <td>0.220284</td>\n",
       "      <td>0.050164</td>\n",
       "      <td>0.205016</td>\n",
       "      <td>0.600872</td>\n",
       "      <td>0.194111</td>\n",
       "      <td>0.595420</td>\n",
       "      <td>0.404580</td>\n",
       "      <td>0.068702</td>\n",
       "      <td>0.500545</td>\n",
       "      <td>0.430752</td>\n",
       "    </tr>\n",
       "    <tr>\n",
       "      <th>std</th>\n",
       "      <td>0.192605</td>\n",
       "      <td>0.149998</td>\n",
       "      <td>0.103287</td>\n",
       "      <td>0.423206</td>\n",
       "      <td>0.179346</td>\n",
       "      <td>0.121245</td>\n",
       "      <td>0.170541</td>\n",
       "      <td>0.497466</td>\n",
       "      <td>0.407864</td>\n",
       "      <td>0.407864</td>\n",
       "      <td>...</td>\n",
       "      <td>0.414664</td>\n",
       "      <td>0.218401</td>\n",
       "      <td>0.403934</td>\n",
       "      <td>0.489986</td>\n",
       "      <td>0.395731</td>\n",
       "      <td>0.491078</td>\n",
       "      <td>0.491078</td>\n",
       "      <td>0.253085</td>\n",
       "      <td>0.500273</td>\n",
       "      <td>0.495452</td>\n",
       "    </tr>\n",
       "    <tr>\n",
       "      <th>min</th>\n",
       "      <td>0.000000</td>\n",
       "      <td>0.000000</td>\n",
       "      <td>0.000000</td>\n",
       "      <td>0.000000</td>\n",
       "      <td>0.000000</td>\n",
       "      <td>0.000000</td>\n",
       "      <td>0.000000</td>\n",
       "      <td>0.000000</td>\n",
       "      <td>0.000000</td>\n",
       "      <td>0.000000</td>\n",
       "      <td>...</td>\n",
       "      <td>0.000000</td>\n",
       "      <td>0.000000</td>\n",
       "      <td>0.000000</td>\n",
       "      <td>0.000000</td>\n",
       "      <td>0.000000</td>\n",
       "      <td>0.000000</td>\n",
       "      <td>0.000000</td>\n",
       "      <td>0.000000</td>\n",
       "      <td>0.000000</td>\n",
       "      <td>0.000000</td>\n",
       "    </tr>\n",
       "    <tr>\n",
       "      <th>25%</th>\n",
       "      <td>0.387755</td>\n",
       "      <td>0.333333</td>\n",
       "      <td>0.249035</td>\n",
       "      <td>0.000000</td>\n",
       "      <td>0.422535</td>\n",
       "      <td>0.295455</td>\n",
       "      <td>0.289855</td>\n",
       "      <td>0.000000</td>\n",
       "      <td>0.000000</td>\n",
       "      <td>1.000000</td>\n",
       "      <td>...</td>\n",
       "      <td>0.000000</td>\n",
       "      <td>0.000000</td>\n",
       "      <td>0.000000</td>\n",
       "      <td>0.000000</td>\n",
       "      <td>0.000000</td>\n",
       "      <td>0.000000</td>\n",
       "      <td>0.000000</td>\n",
       "      <td>0.000000</td>\n",
       "      <td>0.000000</td>\n",
       "      <td>0.000000</td>\n",
       "    </tr>\n",
       "    <tr>\n",
       "      <th>50%</th>\n",
       "      <td>0.530612</td>\n",
       "      <td>0.416667</td>\n",
       "      <td>0.287645</td>\n",
       "      <td>0.000000</td>\n",
       "      <td>0.549296</td>\n",
       "      <td>0.363636</td>\n",
       "      <td>0.420290</td>\n",
       "      <td>1.000000</td>\n",
       "      <td>0.000000</td>\n",
       "      <td>1.000000</td>\n",
       "      <td>...</td>\n",
       "      <td>0.000000</td>\n",
       "      <td>0.000000</td>\n",
       "      <td>0.000000</td>\n",
       "      <td>1.000000</td>\n",
       "      <td>0.000000</td>\n",
       "      <td>1.000000</td>\n",
       "      <td>0.000000</td>\n",
       "      <td>0.000000</td>\n",
       "      <td>1.000000</td>\n",
       "      <td>0.000000</td>\n",
       "    </tr>\n",
       "    <tr>\n",
       "      <th>75%</th>\n",
       "      <td>0.653061</td>\n",
       "      <td>0.500000</td>\n",
       "      <td>0.351351</td>\n",
       "      <td>0.000000</td>\n",
       "      <td>0.676056</td>\n",
       "      <td>0.465909</td>\n",
       "      <td>0.543478</td>\n",
       "      <td>1.000000</td>\n",
       "      <td>0.000000</td>\n",
       "      <td>1.000000</td>\n",
       "      <td>...</td>\n",
       "      <td>0.000000</td>\n",
       "      <td>0.000000</td>\n",
       "      <td>0.000000</td>\n",
       "      <td>1.000000</td>\n",
       "      <td>0.000000</td>\n",
       "      <td>1.000000</td>\n",
       "      <td>1.000000</td>\n",
       "      <td>0.000000</td>\n",
       "      <td>1.000000</td>\n",
       "      <td>1.000000</td>\n",
       "    </tr>\n",
       "    <tr>\n",
       "      <th>max</th>\n",
       "      <td>1.000000</td>\n",
       "      <td>1.000000</td>\n",
       "      <td>1.000000</td>\n",
       "      <td>1.000000</td>\n",
       "      <td>1.000000</td>\n",
       "      <td>1.000000</td>\n",
       "      <td>1.000000</td>\n",
       "      <td>1.000000</td>\n",
       "      <td>1.000000</td>\n",
       "      <td>1.000000</td>\n",
       "      <td>...</td>\n",
       "      <td>1.000000</td>\n",
       "      <td>1.000000</td>\n",
       "      <td>1.000000</td>\n",
       "      <td>1.000000</td>\n",
       "      <td>1.000000</td>\n",
       "      <td>1.000000</td>\n",
       "      <td>1.000000</td>\n",
       "      <td>1.000000</td>\n",
       "      <td>1.000000</td>\n",
       "      <td>1.000000</td>\n",
       "    </tr>\n",
       "  </tbody>\n",
       "</table>\n",
       "<p>8 rows × 22 columns</p>\n",
       "</div>"
      ],
      "text/plain": [
       "              Age   RestingBP  Cholesterol   FastingBS       MaxHR  \\\n",
       "count  917.000000  917.000000   917.000000  917.000000  917.000000   \n",
       "mean     0.520597    0.437841     0.304672    0.233370    0.540771   \n",
       "std      0.192605    0.149998     0.103287    0.423206    0.179346   \n",
       "min      0.000000    0.000000     0.000000    0.000000    0.000000   \n",
       "25%      0.387755    0.333333     0.249035    0.000000    0.422535   \n",
       "50%      0.530612    0.416667     0.287645    0.000000    0.549296   \n",
       "75%      0.653061    0.500000     0.351351    0.000000    0.676056   \n",
       "max      1.000000    1.000000     1.000000    1.000000    1.000000   \n",
       "\n",
       "          Oldpeak    HRMaxGap  HeartDisease       Sex_F       Sex_M  ...  \\\n",
       "count  917.000000  917.000000    917.000000  917.000000  917.000000  ...   \n",
       "mean     0.396215    0.425371      0.552890    0.210469    0.789531  ...   \n",
       "std      0.121245    0.170541      0.497466    0.407864    0.407864  ...   \n",
       "min      0.000000    0.000000      0.000000    0.000000    0.000000  ...   \n",
       "25%      0.295455    0.289855      0.000000    0.000000    1.000000  ...   \n",
       "50%      0.363636    0.420290      1.000000    0.000000    1.000000  ...   \n",
       "75%      0.465909    0.543478      1.000000    0.000000    1.000000  ...   \n",
       "max      1.000000    1.000000      1.000000    1.000000    1.000000  ...   \n",
       "\n",
       "       ChestPainType_NAP  ChestPainType_TA  RestingECG_LVH  RestingECG_Normal  \\\n",
       "count         917.000000        917.000000      917.000000         917.000000   \n",
       "mean            0.220284          0.050164        0.205016           0.600872   \n",
       "std             0.414664          0.218401        0.403934           0.489986   \n",
       "min             0.000000          0.000000        0.000000           0.000000   \n",
       "25%             0.000000          0.000000        0.000000           0.000000   \n",
       "50%             0.000000          0.000000        0.000000           1.000000   \n",
       "75%             0.000000          0.000000        0.000000           1.000000   \n",
       "max             1.000000          1.000000        1.000000           1.000000   \n",
       "\n",
       "       RestingECG_ST  ExerciseAngina_N  ExerciseAngina_Y  ST_Slope_Down  \\\n",
       "count     917.000000        917.000000        917.000000     917.000000   \n",
       "mean        0.194111          0.595420          0.404580       0.068702   \n",
       "std         0.395731          0.491078          0.491078       0.253085   \n",
       "min         0.000000          0.000000          0.000000       0.000000   \n",
       "25%         0.000000          0.000000          0.000000       0.000000   \n",
       "50%         0.000000          1.000000          0.000000       0.000000   \n",
       "75%         0.000000          1.000000          1.000000       0.000000   \n",
       "max         1.000000          1.000000          1.000000       1.000000   \n",
       "\n",
       "       ST_Slope_Flat  ST_Slope_Up  \n",
       "count     917.000000   917.000000  \n",
       "mean        0.500545     0.430752  \n",
       "std         0.500273     0.495452  \n",
       "min         0.000000     0.000000  \n",
       "25%         0.000000     0.000000  \n",
       "50%         1.000000     0.000000  \n",
       "75%         1.000000     1.000000  \n",
       "max         1.000000     1.000000  \n",
       "\n",
       "[8 rows x 22 columns]"
      ]
     },
     "execution_count": 11,
     "metadata": {},
     "output_type": "execute_result"
    }
   ],
   "source": [
    "norm = MinMaxScaler().fit(data)\n",
    "arr = norm.transform(data) # transform the data using the scaler\n",
    "data = pd.DataFrame(arr, columns=data.columns) # create a dataframe from the scaled array\n",
    "data.describe()"
   ]
  },
  {
   "cell_type": "markdown",
   "id": "3117b2d2",
   "metadata": {},
   "source": [
    "#### Q1h. Answer"
   ]
  },
  {
   "cell_type": "markdown",
   "id": "65fb9333",
   "metadata": {},
   "source": [
    "fit() - calculates the minimum and maximum values of each feature of the data, \n",
    "transform() - applies the scaling transformation onto all the data in the table, \n",
    "I then created a new dataframe for the scaled data and then i used describe() - to display the new scaled data in the table\n",
    "\n",
    "\n"
   ]
  },
  {
   "cell_type": "markdown",
   "id": "691cd20e",
   "metadata": {},
   "source": [
    "<div class=\"alert alert-success\" style=\"text-align:left;\"><h2>Question 2. Decision Trees<span style=\"float:right;\">[40 marks]</span></h2></div>\n",
    "\n",
    "This question concerns building and evaluating a decision tree using `sklearn`."
   ]
  },
  {
   "cell_type": "markdown",
   "id": "309005e8",
   "metadata": {},
   "source": [
    "<h3 style=\"text-alight:left;\"> Q2a. <span style=\"float:right;\">[10 marks]</span> </h3>\n",
    "\n",
    "Build a decision tree in the code cell beneath the heading ***Q2a. Code*** to predict the presence of heart disease in a patient and call it `tree_d`. \n",
    "In the markdown cell beneath the heading ***Q2a. Answer***, briefly explain the parameters and values that you chose in the function calls used to build the decision tree, and explain what input features and target output/labels you used in the training."
   ]
  },
  {
   "cell_type": "markdown",
   "id": "9e35e828",
   "metadata": {},
   "source": [
    "#### Q2a. Code"
   ]
  },
  {
   "cell_type": "code",
   "execution_count": 12,
   "id": "0315d12e",
   "metadata": {},
   "outputs": [
    {
     "data": {
      "text/plain": [
       "DecisionTreeClassifier(max_depth=4, random_state=1)"
      ]
     },
     "execution_count": 12,
     "metadata": {},
     "output_type": "execute_result"
    }
   ],
   "source": [
    "hd_data = data\n",
    "\n",
    "\n",
    "y = hd_data['HeartDisease']\n",
    "x = hd_data.drop('HeartDisease',axis=1)\n",
    "\n",
    "x_train, x_test, y_train, y_test = train_test_split(x, y, test_size=0.31, random_state=1)\n",
    "\n",
    "tree_d = DecisionTreeClassifier(max_depth = 4, random_state=1)\n",
    "#max _depth -> limits the levels allowed in the tree \n",
    "#random_state -> ensure the same result are obtained each time the code is run\n",
    "tree_d.fit(x_train,y_train)\n",
    "tree_d"
   ]
  },
  {
   "cell_type": "markdown",
   "id": "775b72a3",
   "metadata": {},
   "source": [
    "\n",
    "## Q2a. Answer"
   ]
  },
  {
   "cell_type": "markdown",
   "id": "71a8ef4d",
   "metadata": {},
   "source": [
    "I chose the random_state to be 1 to ensure the same results are obtained each time the code is run and the max_depth is set to 4 as it gives the highest accuracy for the decision tree. The test set is set to 31% so majority of the data can be used to train the decision tree."
   ]
  },
  {
   "cell_type": "markdown",
   "id": "8420f5be",
   "metadata": {},
   "source": [
    "<h3 style=\"text-alight:left;\"> Q2b. <span style=\"float:right;\">[5 marks]</span> </h3>\n",
    "\n",
    "Write some code in the code cell beneath the heading ***Q2b. Code*** to evaluate the decision tree model that you built. Your code should `print` out the accuracy of the model for correctly classifying whether patients have or do not have heart disease. "
   ]
  },
  {
   "cell_type": "markdown",
   "id": "c745fbe4",
   "metadata": {},
   "source": [
    "#### Q2b. Code"
   ]
  },
  {
   "cell_type": "code",
   "execution_count": 13,
   "id": "7da7ccaf",
   "metadata": {},
   "outputs": [
    {
     "name": "stdout",
     "output_type": "stream",
     "text": [
      "Testing accuracy: \t 0.8526315789473684\n"
     ]
    }
   ],
   "source": [
    "y_predict = tree_d.predict(x_test) \n",
    "# use our trained tree to predict labels for the test data\n",
    "\n",
    "print('Testing accuracy: \\t', metrics.accuracy_score(y_test, y_predict)) \n",
    "# calculate the accuracy by comparing the true labels (y_test) to the predicted labels (y_predict)"
   ]
  },
  {
   "cell_type": "markdown",
   "id": "ec554e4a",
   "metadata": {},
   "source": [
    "<h3 style=\"text-alight:left;\"> Q2c. <span style=\"float:right;\">[5 marks]</span> </h3>\n",
    "\n",
    "Using a confusion matrix, analyse and report the accuracy of the decision tree that you trained. \n",
    "You should write your code in the code cell beneath the heading ***Q2c. Code***, and use the markdown cell beneath the heading ***Q2c. Answer*** to report, with reference to your confusion matrix, which class your decision tree model is better at classifying."
   ]
  },
  {
   "cell_type": "markdown",
   "id": "da7eb6e2",
   "metadata": {},
   "source": [
    "#### Q2c. Code"
   ]
  },
  {
   "cell_type": "code",
   "execution_count": 14,
   "id": "76d7fbe6",
   "metadata": {},
   "outputs": [
    {
     "data": {
      "image/png": "[encoded data removed]",
      "text/plain": [
       "<Figure size 432x288 with 1 Axes>"
      ]
     },
     "metadata": {
      "needs_background": "light"
     },
     "output_type": "display_data"
    }
   ],
   "source": [
    "cm = confusion_matrix(y_test, y_predict)\n",
    "\n",
    "# Print the confusion matrix\n",
    "#print(\"Confusion Matrix:\\n\", cm)\n",
    "\n",
    "# Calculate the accuracy of the model\n",
    "#accuracy = (cm[0][0] + cm[1][1]) / sum(sum(cm))\n",
    "#print(\"Accuracy:\", accuracy)\n",
    "\n",
    "\n",
    "#\n",
    "def cf_matrix(mat, t_name, model_name):\n",
    "    \n",
    "    fig, ax = plt.subplots()\n",
    "    im = ax.imshow(mat)\n",
    "    \n",
    "    ax.set_xticks(range(0,len(t_name)))\n",
    "    ax.set_yticks(range(0,len(t_name)))\n",
    "    ax.set_xticklabels(t_name)\n",
    "    ax.set_yticklabels(t_name)\n",
    "\n",
    "    for i in range(0,len(t_name)):\n",
    "        for j in range(0,len(t_name)):\n",
    "            text = ax.text(j, i, mat[i, j], ha=\"center\", va=\"center\", color=\"k\")\n",
    "    \n",
    "    plt.ylabel('true label')\n",
    "    plt.xlabel('predicted label')\n",
    "    plt.title(f\"Confusion Matrix for {model_name}\")\n",
    "    \n",
    "cf_matrix(cm,[0,1],'DecisionTreeClassifier')"
   ]
  },
  {
   "cell_type": "markdown",
   "id": "1480032f",
   "metadata": {},
   "source": [
    "#### Q2c. Answer"
   ]
  },
  {
   "cell_type": "markdown",
   "id": "6a9dbde5",
   "metadata": {},
   "source": [
    "The Confusion Matrix tells us that only 19 of the people who do not have heart disease are misclassified whereas 98 are predicted correctly. It also tells us that out of the people who do have heart disease 145 were predicted correctly whereas 23 were misclassified. This shows that the DecisionTreeClassifier is good at classifying who does and doesnt have heart disease."
   ]
  },
  {
   "cell_type": "markdown",
   "id": "9dd17ce3",
   "metadata": {},
   "source": [
    "<h3 style=\"text-alight:left;\"> Q2d. <span style=\"float:right;\">[10 marks]</span> </h3>\n",
    "\n",
    "Write the code in the code cell beneath the heading ***Q2d. Code*** to draw your trained decision tree.\n",
    "\n",
    "***There are two parts of this question for the analysis:***\n",
    "\n",
    "In part I, use your plot to analyse your trained decision tree and comment in the markdown cell beneath the heading ***Q2d. Part I Answer*** on what the three most important features are that are used to predict the presence of heart disease.\n",
    "\n",
    "In part II, extract a list of rule(s) from your decision tree plot that can be used to classify people with or without heart disease, and write these into the markdown cell beneath the heading ***Q2d. Part II Answer***."
   ]
  },
  {
   "cell_type": "markdown",
   "id": "0eb1ea06",
   "metadata": {},
   "source": [
    "#### Q2d. Code"
   ]
  },
  {
   "cell_type": "code",
   "execution_count": 15,
   "id": "45c60d2f",
   "metadata": {},
   "outputs": [
    {
     "data": {
      "text/plain": [
       "[Text(0.5267857142857143, 0.9, 'ST_Slope_Up <= 0.5\\ngini = 0.497\\nsamples = 632\\nvalue = [293, 339]\\nclass = HD'),\n",
       " Text(0.2857142857142857, 0.7, 'MaxHR <= 0.637\\ngini = 0.319\\nsamples = 352\\nvalue = [70, 282]\\nclass = HD'),\n",
       " Text(0.14285714285714285, 0.5, 'Sex_M <= 0.5\\ngini = 0.231\\nsamples = 292\\nvalue = [39, 253]\\nclass = HD'),\n",
       " Text(0.07142857142857142, 0.3, 'RestingBP <= 0.425\\ngini = 0.488\\nsamples = 38\\nvalue = [16, 22]\\nclass = HD'),\n",
       " Text(0.03571428571428571, 0.1, 'gini = 0.457\\nsamples = 17\\nvalue = [11, 6]\\nclass = No HD'),\n",
       " Text(0.10714285714285714, 0.1, 'gini = 0.363\\nsamples = 21\\nvalue = [5, 16]\\nclass = HD'),\n",
       " Text(0.21428571428571427, 0.3, 'ChestPainType_ASY <= 0.5\\ngini = 0.165\\nsamples = 254\\nvalue = [23, 231]\\nclass = HD'),\n",
       " Text(0.17857142857142858, 0.1, 'gini = 0.299\\nsamples = 60\\nvalue = [11, 49]\\nclass = HD'),\n",
       " Text(0.25, 0.1, 'gini = 0.116\\nsamples = 194\\nvalue = [12, 182]\\nclass = HD'),\n",
       " Text(0.42857142857142855, 0.5, 'ChestPainType_ASY <= 0.5\\ngini = 0.499\\nsamples = 60\\nvalue = [31, 29]\\nclass = No HD'),\n",
       " Text(0.35714285714285715, 0.3, 'ChestPainType_TA <= 0.5\\ngini = 0.444\\nsamples = 36\\nvalue = [24, 12]\\nclass = No HD'),\n",
       " Text(0.32142857142857145, 0.1, 'gini = 0.358\\nsamples = 30\\nvalue = [23, 7]\\nclass = No HD'),\n",
       " Text(0.39285714285714285, 0.1, 'gini = 0.278\\nsamples = 6\\nvalue = [1, 5]\\nclass = HD'),\n",
       " Text(0.5, 0.3, 'FastingBS <= 0.5\\ngini = 0.413\\nsamples = 24\\nvalue = [7, 17]\\nclass = HD'),\n",
       " Text(0.4642857142857143, 0.1, 'gini = 0.498\\nsamples = 15\\nvalue = [7, 8]\\nclass = HD'),\n",
       " Text(0.5357142857142857, 0.1, 'gini = 0.0\\nsamples = 9\\nvalue = [0, 9]\\nclass = HD'),\n",
       " Text(0.7678571428571429, 0.7, 'ChestPainType_ASY <= 0.5\\ngini = 0.324\\nsamples = 280\\nvalue = [223, 57]\\nclass = No HD'),\n",
       " Text(0.6785714285714286, 0.5, 'Oldpeak <= 0.545\\ngini = 0.101\\nsamples = 187\\nvalue = [177, 10]\\nclass = No HD'),\n",
       " Text(0.6428571428571429, 0.3, 'Age <= 0.582\\ngini = 0.063\\nsamples = 183\\nvalue = [177, 6]\\nclass = No HD'),\n",
       " Text(0.6071428571428571, 0.1, 'gini = 0.013\\nsamples = 150\\nvalue = [149, 1]\\nclass = No HD'),\n",
       " Text(0.6785714285714286, 0.1, 'gini = 0.257\\nsamples = 33\\nvalue = [28, 5]\\nclass = No HD'),\n",
       " Text(0.7142857142857143, 0.3, 'gini = 0.0\\nsamples = 4\\nvalue = [0, 4]\\nclass = HD'),\n",
       " Text(0.8571428571428571, 0.5, 'FastingBS <= 0.5\\ngini = 0.5\\nsamples = 93\\nvalue = [46, 47]\\nclass = HD'),\n",
       " Text(0.7857142857142857, 0.3, 'ExerciseAngina_N <= 0.5\\ngini = 0.47\\nsamples = 69\\nvalue = [43, 26]\\nclass = No HD'),\n",
       " Text(0.75, 0.1, 'gini = 0.388\\nsamples = 19\\nvalue = [5, 14]\\nclass = HD'),\n",
       " Text(0.8214285714285714, 0.1, 'gini = 0.365\\nsamples = 50\\nvalue = [38, 12]\\nclass = No HD'),\n",
       " Text(0.9285714285714286, 0.3, 'Cholesterol <= 0.332\\ngini = 0.219\\nsamples = 24\\nvalue = [3, 21]\\nclass = HD'),\n",
       " Text(0.8928571428571429, 0.1, 'gini = 0.091\\nsamples = 21\\nvalue = [1, 20]\\nclass = HD'),\n",
       " Text(0.9642857142857143, 0.1, 'gini = 0.444\\nsamples = 3\\nvalue = [2, 1]\\nclass = No HD')]"
      ]
     },
     "execution_count": 15,
     "metadata": {},
     "output_type": "execute_result"
    },
    {
     "data": {
      "image/png": "[encoded data removed]",
      "text/plain": [
       "<Figure size 2016x1296 with 1 Axes>"
      ]
     },
     "metadata": {
      "needs_background": "light"
     },
     "output_type": "display_data"
    }
   ],
   "source": [
    "hd_features = list(x_train.columns)\n",
    "hd_class = ['No HD','HD'] # Not Cancelled = 0, Cancelled = 1\n",
    "\n",
    "plt.figure(figsize=(28,18)) # You may need to adjust this value to get the tree to fit on your screen\n",
    "plot_tree(tree_d, feature_names = hd_features,class_names=hd_class, filled=True, fontsize=9)"
   ]
  },
  {
   "cell_type": "markdown",
   "id": "1edc6211",
   "metadata": {},
   "source": [
    "#### Q2d. Part I Answer"
   ]
  },
  {
   "cell_type": "markdown",
   "id": "504519bd",
   "metadata": {},
   "source": [
    "The three most imprtant features or heart disease are ST_Slope_Up, Max_HR, ChestPainType_ASY"
   ]
  },
  {
   "cell_type": "markdown",
   "id": "a41b8fad",
   "metadata": {},
   "source": [
    "#### Q2d. Part II Answer"
   ]
  },
  {
   "cell_type": "markdown",
   "id": "e57a108a",
   "metadata": {},
   "source": [
    "Rules for a patient that has heart disease \n",
    "\n",
    "If a patient has:\n",
    "\n",
    "- ST_Slope_UP that is <=0.5\n",
    "\n",
    "- MaxHR that is <= 0.637\n",
    "\n",
    "- Sex_M <= 0.5\n",
    "\n",
    "- ChestPainType_ASY <=0.5\n",
    "\n",
    "Then they do have heart disease \n",
    "\n",
    "\n",
    "\n",
    "\n",
    "Rules for a patient that doesn't have heart disease \n",
    "\n",
    "If a patient has:\n",
    "\n",
    "- ST_Slope_UP that is <=0.5\n",
    "\n",
    "- ChestPainType_ASY <= 0.5\n",
    "\n",
    "- OldPeak <= 0.565\n",
    "\n",
    "- Age <=0.582\n",
    "\n",
    "Then they don't have heart disease\n",
    "\n",
    "\n"
   ]
  },
  {
   "cell_type": "markdown",
   "id": "b753e8cf",
   "metadata": {},
   "source": [
    "<h3 style=\"text-alight:left;\"> Q2e. <span style=\"float:right;\">[10 marks]</span> </h3>\n",
    "\n",
    "Write the code in the code cell beneath the heading ***Q2e. Code*** which enables you to test and evaluate the performance of decision tree models used for classifying people with or without heart disease. You should use this code to perform an experiment to find the best depth of a decision tree classification model. You should then explain your chosen best decision tree model in the markdown cell beneath the heading ***Q2e. Answer*** with respect to: its accuracy, over-fitting, features, true positives, and true negatives."
   ]
  },
  {
   "cell_type": "markdown",
   "id": "56cb2a0b",
   "metadata": {},
   "source": [
    "#### Q2e. Code"
   ]
  },
  {
   "cell_type": "code",
   "execution_count": 16,
   "id": "77bd0963",
   "metadata": {},
   "outputs": [
    {
     "data": {
      "image/png": "[encoded data removed]",
      "text/plain": [
       "<Figure size 504x360 with 1 Axes>"
      ]
     },
     "metadata": {
      "needs_background": "light"
     },
     "output_type": "display_data"
    }
   ],
   "source": [
    "cv_scores = list()\n",
    "depth_values = range(2,26)\n",
    "\n",
    "for d in depth_values:\n",
    "    tree_d_k = DecisionTreeClassifier(max_depth = d,random_state=1)\n",
    "    score = cross_val_score(tree_d_k, x, y, cv=3, scoring='accuracy')\n",
    "    # note: the whole datasets are passed to cross_val_score, not the previously partitioned training / testing data\n",
    "\n",
    "    mean_score = score.mean()\n",
    "    cv_scores.append(mean_score)\n",
    "    \n",
    "    \n",
    "plt.figure(figsize=(7,5))\n",
    "plt.plot(depth_values, cv_scores, '-o',markersize=10,alpha=0.65,color='#1b9e77')\n",
    "plt.xlabel('max_depth')\n",
    "plt.ylabel('mean cross-validation accuracy')\n",
    "plt.show()"
   ]
  },
  {
   "cell_type": "markdown",
   "id": "30e45277",
   "metadata": {},
   "source": [
    "#### Q2e. Answer"
   ]
  },
  {
   "cell_type": "markdown",
   "id": "cae7bd79",
   "metadata": {},
   "source": [
    "From this graph we can see that the max_depth that gives the best mean accuracies occur at 3 or 4. Adding more levels to the tree introduces more complexity without increasing the accuracy of the decision tree. The more levels there are to the tree the higher the chance the training data will be overlifted which will decrease the accuracy as the number of levels of the tree grows."
   ]
  },
  {
   "cell_type": "markdown",
   "id": "f7942d86",
   "metadata": {},
   "source": [
    "<div class=\"alert alert-success\" style=\"text-align:left;\"><h2>Question 3. Neural Networks<span style=\"float:right;\">[20 marks]</span></h2></div>\n",
    "\n",
    "\n",
    "This question concerns building and evaluating a neural network using `sklearn`, comparing and contrasting it with your Decision Tree method."
   ]
  },
  {
   "cell_type": "markdown",
   "id": "663a09ae",
   "metadata": {},
   "source": [
    "<h3 style=\"text-alight:left;\"> Q3a. <span style=\"float:right;\">[5 marks]</span> </h3>\n",
    "\n",
    "Write the code in the code cell beneath the heading ***Q3a. Code*** to build a neural network to predict the presence of heart disease in a patient. \n",
    "Briefly explain the parameters and values that you chose in the functions used in the markdown cell beneath the heading ***Q3a Answer***."
   ]
  },
  {
   "cell_type": "markdown",
   "id": "777463cb",
   "metadata": {},
   "source": [
    "#### Q3a. Code"
   ]
  },
  {
   "cell_type": "code",
   "execution_count": 17,
   "id": "e86dc642",
   "metadata": {},
   "outputs": [
    {
     "data": {
      "text/plain": [
       "MLPClassifier(hidden_layer_sizes=(4, 3), max_iter=1000, random_state=1)"
      ]
     },
     "execution_count": 17,
     "metadata": {},
     "output_type": "execute_result"
    }
   ],
   "source": [
    "mlp = MLPClassifier(hidden_layer_sizes=(4,3), max_iter=1000,random_state=1) # The MLP implementation uses some randomness too!\n",
    "mlp.fit(x_train, y_train) \n",
    "\n",
    "\n"
   ]
  },
  {
   "cell_type": "markdown",
   "id": "971387cb",
   "metadata": {},
   "source": [
    "#### Q3a. Answer"
   ]
  },
  {
   "cell_type": "markdown",
   "id": "7b2302a1",
   "metadata": {},
   "source": [
    "The hidden_layer_sizes parameter takes a tuple defining the number in each hidden layer. I have set it to (4,3) which gives the neural network 2 hidden layers, where the first layer has 4 neurons and the second layer has 3 neurons.\n",
    "\n",
    "I have also set max_iter to 1000 meaning that the training will terminate after 1000 epochs unless it has already converged. If it has converged there has been no improvement for a certain number of iterations"
   ]
  },
  {
   "cell_type": "markdown",
   "id": "9e88ae00",
   "metadata": {},
   "source": [
    "<h3 style=\"text-alight:left;\"> Q3b. <span style=\"float:right;\">[5 marks]</span> </h3>\n",
    "\n",
    "Write the code in the code cell beneath the heading ***Q3b. Code*** to evaluate the neural network model that you built. Your code should output relevant statistics to show which of the decision tree and neural network models is better in terms of overall accuracy."
   ]
  },
  {
   "cell_type": "markdown",
   "id": "afce4811",
   "metadata": {},
   "source": [
    "#### Q3b. Code"
   ]
  },
  {
   "cell_type": "code",
   "execution_count": 18,
   "id": "5ce5bc90",
   "metadata": {},
   "outputs": [
    {
     "name": "stdout",
     "output_type": "stream",
     "text": [
      "Neural Network Testing accuracy: \t 0.856140350877193\n",
      "Neural Network Training accuracy: \t 0.8813291139240507\n",
      "Decision tree Testing accuracy: \t 0.8526315789473684\n"
     ]
    }
   ],
   "source": [
    "y_predict = mlp.predict(x_test) \n",
    "# use our trained network to predict labels for the test data\n",
    "y_predict_train = mlp.predict(x_train)\n",
    "\n",
    "y_predict_dt = tree_d.predict(x_test)\n",
    "\n",
    "print('Neural Network Testing accuracy: \\t', metrics.accuracy_score(y_test, y_predict))\n",
    "\n",
    "print('Neural Network Training accuracy: \\t', metrics.accuracy_score(y_train, y_predict_train)) \n",
    "\n",
    "print('Decision tree Testing accuracy: \\t', metrics.accuracy_score(y_test, y_predict_dt)) \n",
    "# calculate the accuracy by comparing the true labels (y_test) to the predicted labels (y_predict)"
   ]
  },
  {
   "cell_type": "markdown",
   "id": "7001d8bb",
   "metadata": {},
   "source": [
    "<h3 style=\"text-alight:left;\"> Q3c. <span style=\"float:right;\">[5 marks]</span> </h3>\n",
    "\n",
    "Compared to the decision tree model that you built, is your neural network model better at classifying people with heart disease, or better at classifying people without heart disease? \n",
    "\n",
    "You should write any code used for your evaluation in the code cell beneath the heading ***Q3c. Code*** and write into the markdown cell beneath ***Q3c. Answer*** to explain the reasons behind your answer. You should use a confusion matrix to support your answers."
   ]
  },
  {
   "cell_type": "markdown",
   "id": "1fd85873",
   "metadata": {},
   "source": [
    "#### Q3c. Code"
   ]
  },
  {
   "cell_type": "code",
   "execution_count": 19,
   "id": "5de73889",
   "metadata": {},
   "outputs": [
    {
     "data": {
      "image/png": "[encoded data removed]",
      "text/plain": [
       "<Figure size 432x288 with 1 Axes>"
      ]
     },
     "metadata": {
      "needs_background": "light"
     },
     "output_type": "display_data"
    }
   ],
   "source": [
    "cm_mlp = metrics.confusion_matrix(y_test,y_predict) # calculate confusion matrix for the neural network\n",
    "cf_matrix(cm_mlp,[0,1],'MLPClassifier') # plot the confusion matrix"
   ]
  },
  {
   "cell_type": "markdown",
   "id": "4a7195ac",
   "metadata": {},
   "source": [
    "#### Q3c. Answer"
   ]
  },
  {
   "cell_type": "markdown",
   "id": "9287e310",
   "metadata": {},
   "source": [
    "The Confusion Matrix tells us that only 20 of the people who do not have heart disease are misclassified whereas 97 are predicted correctly. It also tells us that out of the people who do have heart disease 147 were predicted correctly whereas 21 were misclassified. This shows that the DecisionTreeClassifier is good a predicting who does and doesnt have heart disease. \n",
    "\n",
    "This shows that the neural network is better at classifying people who do have heart disease compared to the decision tree however the decision tree was better at classifying peple who do not have heart disease "
   ]
  },
  {
   "cell_type": "markdown",
   "id": "ada1e376",
   "metadata": {},
   "source": [
    "<h3 style=\"text-alight:left;\"> Q3d. <span style=\"float:right;\">[5 marks]</span> </h3>\n",
    "\n",
    "How would you suggest improving the accuracy of predicting the presence of heart disease in new patients? Briefly explain in the markdown cell beneath the heading ***Q3d. Answer*** any potential strategies you could use to improve the model's performance on unseen data. Your answer should make particular reference to any shortcomings of the training dataset used for this coursework."
   ]
  },
  {
   "cell_type": "markdown",
   "id": "a6bf7eef",
   "metadata": {},
   "source": [
    "#### Q3d. Answer"
   ]
  },
  {
   "cell_type": "markdown",
   "id": "e1dee647",
   "metadata": {},
   "source": [
    "- Collect more data: as this would increase the sample size used to train the model therefore would create more accurate preidtions of heart disease \n",
    "\n",
    "- Feature Engineering: Not all features may be relevant in predicting heart disease. Feature ranking can help the accuracy of the model by ranking the most important features. Also adding new features that can capture a better relationship between the input variables and the target variable. e.g combining age and cholesterol levels may cause the model to produce more accurate results\n",
    "\n",
    "- Decision tree parameters: The parameters used for the decison tree can be altered to improve the accuracy of the tree. Grid/Random search can be used to see what combination of parameters produces the best result \n",
    "\n"
   ]
  },
  {
   "cell_type": "code",
   "execution_count": null,
   "id": "90452684",
   "metadata": {},
   "outputs": [],
   "source": []
  }
 ],
 "metadata": {
  "kernelspec": {
   "display_name": "Python 3 (ipykernel)",
   "language": "python",
   "name": "python3"
  },
  "language_info": {
   "codemirror_mode": {
    "name": "ipython",
    "version": 3
   },
   "file_extension": ".py",
   "mimetype": "text/x-python",
   "name": "python",
   "nbconvert_exporter": "python",
   "pygments_lexer": "ipython3",
   "version": "3.9.12"
  },
  "vscode": {
   "interpreter": {
    "hash": "b541bc4e284ccebd3706a543000c5480b1af5ee0edca3f18ee9c0e893a126858"
   }
  }
 },
 "nbformat": 4,
 "nbformat_minor": 5
}
